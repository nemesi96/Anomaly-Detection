{
 "cells": [
  {
   "cell_type": "markdown",
   "metadata": {},
   "source": [
    "## Credit Card Fraud Detection using an imbalanced Dataset\n",
    "\n"
   ]
  },
  {
   "cell_type": "markdown",
   "metadata": {},
   "source": [
    "#### User Defined Functions"
   ]
  },
  {
   "cell_type": "code",
   "execution_count": 2,
   "metadata": {},
   "outputs": [],
   "source": [
    "# converts list of dictionary of intances into dictionary of features \n",
    "# and returns column oriented dataframe \n",
    "def load_data(data):\n",
    "    parse_data=data[0].keys()\n",
    "    trans_data={}\n",
    "    for i in parse_data:\n",
    "        trans_data[i]=list()\n",
    "    for row in data:\n",
    "        for keys,values in row.items():\n",
    "            if values=='':\n",
    "                trans_data[keys].append(float(\"NaN\")) #missing datapoints are assigned with 'NaN'\n",
    "            else:\n",
    "                trans_data[keys].append(values)\n",
    "    return pd.DataFrame.from_dict(trans_data)\n",
    "\n",
    "#for Normalizing \n",
    "def normalize(data):\n",
    "    upper_value = data.max()\n",
    "    lower_value = data.min()\n",
    "    x = (data - lower_value)/(upper_value-lower_value)\n",
    "    return x\n",
    "\n",
    "#shuffiling and splitting the data\n",
    "def split_train_test(data, test_ratio):\n",
    "    np.random.seed(95)\n",
    "    shuffled_indices = np.random.permutation(len(data))\n",
    "    test_set_size = int(len(data) * test_ratio)\n",
    "    test_indices = shuffled_indices[:test_set_size]\n",
    "    train_indices = shuffled_indices[test_set_size:]\n",
    "    return data.iloc[train_indices], data.iloc[test_indices]\n",
    "\n",
    "#performance of model on training data\n",
    "def model_performance_training (model,x,y):\n",
    "    model.fit(x,y)\n",
    "    pred=model.predict(x)\n",
    "    print(\"Model Training Performance\",)\n",
    "    print(\"--------------------------\")\n",
    "    print (\"Accuracy:\",accuracy_score(y,pred))\n",
    "    print (\"precision:\", precision_score(y,pred))\n",
    "    print (\"Recall:\",recall_score(y,pred))\n",
    "    print (\"F1 Score:\",f1_score(y,pred))\n",
    "\n",
    "#performance on test Data\n",
    "def model_Evaluation_scores(model,x_test,y_test):\n",
    "    y_pred=model.predict(x_test)\n",
    "    print(\"Model Evaluation Scores\")\n",
    "    print(\"--------------------------\")\n",
    "    print (\"Accuracy:\",accuracy_score(y_test,y_pred))\n",
    "    print (\"precision:\", precision_score(y_test,y_pred))\n",
    "    print (\"Recall:\",recall_score(y_test,y_pred))\n",
    "    print (\"F1 Score:\",f1_score(y_test,y_pred))\n",
    "    "
   ]
  },
  {
   "cell_type": "markdown",
   "metadata": {},
   "source": [
    "### Question1: Load"
   ]
  },
  {
   "cell_type": "markdown",
   "metadata": {},
   "source": [
    " #### Importing Modules"
   ]
  },
  {
   "cell_type": "code",
   "execution_count": 3,
   "metadata": {},
   "outputs": [],
   "source": [
    "import json\n",
    "import pandas as pd\n",
    "import os\n",
    "import math\n",
    "import datetime\n",
    "import autocomplete\n",
    "import matplotlib.pyplot as plt\n",
    "import numpy as np\n",
    "import seaborn as sns\n",
    "from sklearn.preprocessing import PowerTransformer,StandardScaler \n",
    "import warnings\n",
    "warnings.simplefilter('ignore')"
   ]
  },
  {
   "cell_type": "markdown",
   "metadata": {},
   "source": [
    "#### importing data"
   ]
  },
  {
   "cell_type": "code",
   "execution_count": 4,
   "metadata": {},
   "outputs": [],
   "source": [
    "contents = open(\"transactions.txt\", \"r\").read()  \n",
    "list_dict = [json.loads(str(item)) for item in contents.strip().split('\\n')]\n",
    "transaction_df=load_data(list_dict)"
   ]
  },
  {
   "cell_type": "markdown",
   "metadata": {},
   "source": [
    "#### Structure of the data"
   ]
  },
  {
   "cell_type": "code",
   "execution_count": 5,
   "metadata": {},
   "outputs": [
    {
     "data": {
      "text/plain": [
       "((641914, 29), 5000)"
      ]
     },
     "execution_count": 5,
     "metadata": {},
     "output_type": "execute_result"
    }
   ],
   "source": [
    "# structure and Distinct customers\n",
    "transaction_df.shape,len(set(transaction_df['accountNumber']))"
   ]
  },
  {
   "cell_type": "markdown",
   "metadata": {},
   "source": [
    "\n",
    "1. Number of records    : **641914**\n",
    "\n",
    "2. Number of Fields     : **29**\n",
    "\n",
    "3. Number of Customers  : **5000**\n",
    "\n"
   ]
  },
  {
   "cell_type": "markdown",
   "metadata": {},
   "source": [
    "#### Missing Values"
   ]
  },
  {
   "cell_type": "code",
   "execution_count": 6,
   "metadata": {},
   "outputs": [
    {
     "data": {
      "text/html": [
       "<div>\n",
       "<style scoped>\n",
       "    .dataframe tbody tr th:only-of-type {\n",
       "        vertical-align: middle;\n",
       "    }\n",
       "\n",
       "    .dataframe tbody tr th {\n",
       "        vertical-align: top;\n",
       "    }\n",
       "\n",
       "    .dataframe thead th {\n",
       "        text-align: right;\n",
       "    }\n",
       "</style>\n",
       "<table border=\"1\" class=\"dataframe\">\n",
       "  <thead>\n",
       "    <tr style=\"text-align: right;\">\n",
       "      <th></th>\n",
       "      <th>0</th>\n",
       "    </tr>\n",
       "  </thead>\n",
       "  <tbody>\n",
       "    <tr>\n",
       "      <th>acqCountry</th>\n",
       "      <td>3913</td>\n",
       "    </tr>\n",
       "    <tr>\n",
       "      <th>merchantCountryCode</th>\n",
       "      <td>624</td>\n",
       "    </tr>\n",
       "    <tr>\n",
       "      <th>posEntryMode</th>\n",
       "      <td>3345</td>\n",
       "    </tr>\n",
       "    <tr>\n",
       "      <th>posConditionCode</th>\n",
       "      <td>287</td>\n",
       "    </tr>\n",
       "    <tr>\n",
       "      <th>transactionType</th>\n",
       "      <td>589</td>\n",
       "    </tr>\n",
       "    <tr>\n",
       "      <th>echoBuffer</th>\n",
       "      <td>641914</td>\n",
       "    </tr>\n",
       "    <tr>\n",
       "      <th>merchantCity</th>\n",
       "      <td>641914</td>\n",
       "    </tr>\n",
       "    <tr>\n",
       "      <th>merchantState</th>\n",
       "      <td>641914</td>\n",
       "    </tr>\n",
       "    <tr>\n",
       "      <th>merchantZip</th>\n",
       "      <td>641914</td>\n",
       "    </tr>\n",
       "    <tr>\n",
       "      <th>posOnPremises</th>\n",
       "      <td>641914</td>\n",
       "    </tr>\n",
       "    <tr>\n",
       "      <th>recurringAuthInd</th>\n",
       "      <td>641914</td>\n",
       "    </tr>\n",
       "  </tbody>\n",
       "</table>\n",
       "</div>"
      ],
      "text/plain": [
       "                          0\n",
       "acqCountry             3913\n",
       "merchantCountryCode     624\n",
       "posEntryMode           3345\n",
       "posConditionCode        287\n",
       "transactionType         589\n",
       "echoBuffer           641914\n",
       "merchantCity         641914\n",
       "merchantState        641914\n",
       "merchantZip          641914\n",
       "posOnPremises        641914\n",
       "recurringAuthInd     641914"
      ]
     },
     "execution_count": 6,
     "metadata": {},
     "output_type": "execute_result"
    }
   ],
   "source": [
    "# Null Value count\n",
    "missing=transaction_df.isna().sum()\n",
    "missing=pd.DataFrame(missing)\n",
    "missing[missing[0]>0]"
   ]
  },
  {
   "cell_type": "markdown",
   "metadata": {},
   "source": [
    ">There are _5 Attributes with missing Values_ and _6 Empty Attributes_. \n",
    "\n",
    ">**Note** :The unique attributes 'accountNumber' and 'customerId' are same. so, I'm removing 'customerID' along with the empty fields to reduce the dimensionality of the dataset"
   ]
  },
  {
   "cell_type": "code",
   "execution_count": 7,
   "metadata": {},
   "outputs": [],
   "source": [
    "#Removing unnecessary variables \n",
    "transaction_df=transaction_df.drop(['customerId','echoBuffer',\n",
    "                                    'merchantCity','merchantState',\n",
    "                                    'merchantZip','posOnPremises', \n",
    "                                    'recurringAuthInd'],axis=1)"
   ]
  },
  {
   "cell_type": "markdown",
   "metadata": {},
   "source": [
    "#### Summary Statisticts"
   ]
  },
  {
   "cell_type": "code",
   "execution_count": 8,
   "metadata": {},
   "outputs": [
    {
     "data": {
      "text/html": [
       "<div>\n",
       "<style scoped>\n",
       "    .dataframe tbody tr th:only-of-type {\n",
       "        vertical-align: middle;\n",
       "    }\n",
       "\n",
       "    .dataframe tbody tr th {\n",
       "        vertical-align: top;\n",
       "    }\n",
       "\n",
       "    .dataframe thead th {\n",
       "        text-align: right;\n",
       "    }\n",
       "</style>\n",
       "<table border=\"1\" class=\"dataframe\">\n",
       "  <thead>\n",
       "    <tr style=\"text-align: right;\">\n",
       "      <th></th>\n",
       "      <th>creditLimit</th>\n",
       "      <th>availableMoney</th>\n",
       "      <th>transactionAmount</th>\n",
       "      <th>currentBalance</th>\n",
       "    </tr>\n",
       "  </thead>\n",
       "  <tbody>\n",
       "    <tr>\n",
       "      <th>count</th>\n",
       "      <td>641914.000000</td>\n",
       "      <td>641914.000000</td>\n",
       "      <td>641914.000000</td>\n",
       "      <td>641914.000000</td>\n",
       "    </tr>\n",
       "    <tr>\n",
       "      <th>mean</th>\n",
       "      <td>10697.210608</td>\n",
       "      <td>6652.828573</td>\n",
       "      <td>135.162497</td>\n",
       "      <td>4044.382035</td>\n",
       "    </tr>\n",
       "    <tr>\n",
       "      <th>std</th>\n",
       "      <td>11460.359133</td>\n",
       "      <td>9227.132275</td>\n",
       "      <td>147.053302</td>\n",
       "      <td>5945.510224</td>\n",
       "    </tr>\n",
       "    <tr>\n",
       "      <th>min</th>\n",
       "      <td>250.000000</td>\n",
       "      <td>-1244.930000</td>\n",
       "      <td>0.000000</td>\n",
       "      <td>0.000000</td>\n",
       "    </tr>\n",
       "    <tr>\n",
       "      <th>25%</th>\n",
       "      <td>5000.000000</td>\n",
       "      <td>1114.970000</td>\n",
       "      <td>32.320000</td>\n",
       "      <td>502.442500</td>\n",
       "    </tr>\n",
       "    <tr>\n",
       "      <th>50%</th>\n",
       "      <td>7500.000000</td>\n",
       "      <td>3578.165000</td>\n",
       "      <td>85.800000</td>\n",
       "      <td>2151.860000</td>\n",
       "    </tr>\n",
       "    <tr>\n",
       "      <th>75%</th>\n",
       "      <td>15000.000000</td>\n",
       "      <td>8169.185000</td>\n",
       "      <td>189.030000</td>\n",
       "      <td>5005.890000</td>\n",
       "    </tr>\n",
       "    <tr>\n",
       "      <th>max</th>\n",
       "      <td>50000.000000</td>\n",
       "      <td>50000.000000</td>\n",
       "      <td>1825.250000</td>\n",
       "      <td>47496.500000</td>\n",
       "    </tr>\n",
       "  </tbody>\n",
       "</table>\n",
       "</div>"
      ],
      "text/plain": [
       "         creditLimit  availableMoney  transactionAmount  currentBalance\n",
       "count  641914.000000   641914.000000      641914.000000   641914.000000\n",
       "mean    10697.210608     6652.828573         135.162497     4044.382035\n",
       "std     11460.359133     9227.132275         147.053302     5945.510224\n",
       "min       250.000000    -1244.930000           0.000000        0.000000\n",
       "25%      5000.000000     1114.970000          32.320000      502.442500\n",
       "50%      7500.000000     3578.165000          85.800000     2151.860000\n",
       "75%     15000.000000     8169.185000         189.030000     5005.890000\n",
       "max     50000.000000    50000.000000        1825.250000    47496.500000"
      ]
     },
     "execution_count": 8,
     "metadata": {},
     "output_type": "execute_result"
    }
   ],
   "source": [
    "transaction_df.describe()"
   ]
  },
  {
   "cell_type": "markdown",
   "metadata": {},
   "source": [
    "#### Imputation of missing Values"
   ]
  },
  {
   "cell_type": "markdown",
   "metadata": {},
   "source": [
    "Since the transaction dataset is imbalanced, to produce an unbiased estimate and retain the relationship between variables I've made few assumptions and utilized unconditional imputation strategies to preserve the missing value patterns.   \n",
    "\n",
    "1. I believe that _'transactionType'_ attribute plays a crucial role. so, I assumed that the data points for this attribute are missing at Random and they depend on the attribute _'transactionAmount\"_. \n",
    "\n",
    "\n",
    "2. By assuming that missing values of other attributes might help me find some patterns. I'm retaining them for analysis instead of holding only Complete Cases."
   ]
  },
  {
   "cell_type": "code",
   "execution_count": 9,
   "metadata": {},
   "outputs": [
    {
     "data": {
      "text/plain": [
       "PURCHASE                608685\n",
       "ADDRESS_VERIFICATION     16478\n",
       "REVERSAL                 16162\n",
       "NaN                        589\n",
       "Name: transactionType, dtype: int64"
      ]
     },
     "execution_count": 9,
     "metadata": {},
     "output_type": "execute_result"
    }
   ],
   "source": [
    "#missing values of transactionType\n",
    "transaction_df['transactionType'].value_counts(dropna=False)"
   ]
  },
  {
   "cell_type": "code",
   "execution_count": 10,
   "metadata": {},
   "outputs": [
    {
     "name": "stdout",
     "output_type": "stream",
     "text": [
      "missing data points for ADDRESSVERIFICAION category : 0\n",
      "total data points for REVERSAl category : 16162\n"
     ]
    }
   ],
   "source": [
    "# count of missing 'ADDRESS_VERIFICATION' transactions\n",
    "count=transaction_df[(transaction_df['transactionAmount']==0) & (transaction_df['transactionType'].isna())].shape[0]\n",
    "print(\"missing data points for ADDRESSVERIFICAION category :\",count)\n",
    "#count of missing 'REVERSAL TRANSACTIONS'\n",
    "count1=transaction_df[(transaction_df['transactionAmount']>0) & (transaction_df['transactionType']=='REVERSAL')].shape[0]+transaction_df[(transaction_df['transactionAmount']==0) & (transaction_df['transactionType']=='REVERSAL')].shape[0]\n",
    "print(\"total data points for REVERSAl category :\",count1)\n",
    "\n",
    "transaction_df['transactionType'].fillna('PURCHASE',inplace=True)\n"
   ]
  },
  {
   "cell_type": "markdown",
   "metadata": {},
   "source": [
    ">1. In my analysis, I found that _'transactionAmount'_  for ADDRESSVERIFICATION category is 0$. so, I verified if there are any missing data points for \n",
    "'AddressVerification' category in _'transactionType'_ attribute. which is 0.\n",
    "\n",
    ">2. I also found the there are few REVERSAL Transactions with transactionAmount=0. from my analysis, none of the data values were missing for REVERSAL transaction in _'transactionType'_ attribute.\n",
    "\n",
    "\n",
    ">3. From the above assumptions and analysis, I've deduced that all the missing data values belongs to the PURCHASE category for _'transactionType'_ attribute."
   ]
  },
  {
   "cell_type": "markdown",
   "metadata": {},
   "source": [
    "#### Exploring Variables"
   ]
  },
  {
   "cell_type": "code",
   "execution_count": 11,
   "metadata": {},
   "outputs": [
    {
     "data": {
      "image/png": "[encoded data removed]",
      "text/plain": [
       "<Figure size 216x288 with 1 Axes>"
      ]
     },
     "metadata": {
      "needs_background": "light"
     },
     "output_type": "display_data"
    }
   ],
   "source": [
    "#Bar plot of 'isFraud'\n",
    "plt.figure(figsize=(3,4))\n",
    "sns.countplot(x=\"isFraud\", data=transaction_df)\n",
    "plt.show()"
   ]
  },
  {
   "cell_type": "code",
   "execution_count": 12,
   "metadata": {},
   "outputs": [
    {
     "data": {
      "text/plain": [
       "0.017606719903289225"
      ]
     },
     "execution_count": 12,
     "metadata": {},
     "output_type": "execute_result"
    }
   ],
   "source": [
    "transaction_df[(transaction_df['isFraud']==True)].shape[0]/transaction_df.shape[0]"
   ]
  },
  {
   "cell_type": "markdown",
   "metadata": {},
   "source": [
    ">It's clearly obvious that the data is imbalanced. we can observe that the proportion of 'False' Class is much greater than the  'True' Class."
   ]
  },
  {
   "cell_type": "code",
   "execution_count": 13,
   "metadata": {
    "scrolled": true
   },
   "outputs": [
    {
     "data": {
      "image/png": "[encoded data removed]",
      "text/plain": [
       "<Figure size 432x360 with 2 Axes>"
      ]
     },
     "metadata": {
      "needs_background": "light"
     },
     "output_type": "display_data"
    }
   ],
   "source": [
    "#Merchant Ananysis\n",
    "transaction_df1=transaction_df.copy()\n",
    "\n",
    "#removing MerchantID\n",
    "for i in range(len(transaction_df)):\n",
    "    if '#' in transaction_df1.loc[i,'merchantName']:\n",
    "        index=transaction_df1.loc[i,'merchantName'].index('#')\n",
    "        value=transaction_df1.loc[i,'merchantName'][:index-1]\n",
    "        transaction_df1.at[i, 'merchantName']=value\n",
    "\n",
    "#Plotting Merchants \n",
    "plt.subplot(2, 1, 1)\n",
    "transaction_df1['merchantName'].value_counts().head(10).plot(kind='barh',figsize=(6,5))\n",
    "plt.title('Merchats with more number of  Transactions')\n",
    "plt.xlabel('number of transactions')\n",
    "\n",
    "\n",
    "plt.subplot(2,1,2)\n",
    "transaction_df1[(transaction_df1['isFraud']==True)]['merchantName'].value_counts().head(10).plot(kind='barh',figsize=(6,5),color='red')\n",
    "plt.title('Merchats with more number of Fradulant Transactions')\n",
    "plt.xlabel('number of Fraud transactions')\n",
    "\n",
    "plt.tight_layout()"
   ]
  },
  {
   "cell_type": "markdown",
   "metadata": {},
   "source": [
    "1. From the above Barchat, we can observe that more than 30000 transactions occurred with AMC followed by Ez Putt Putt, Lyft and Uber.\n",
    "\n",
    "\n",
    "2. Uber and lyft have a similar number of transactions but fraudulent transactions were occurred with Uber compared to lyft."
   ]
  },
  {
   "cell_type": "code",
   "execution_count": 14,
   "metadata": {},
   "outputs": [
    {
     "data": {
      "image/png": "[encoded data removed]",
      "text/plain": [
       "<Figure size 432x288 with 1 Axes>"
      ]
     },
     "metadata": {
      "needs_background": "light"
     },
     "output_type": "display_data"
    },
    {
     "data": {
      "text/plain": [
       "<Figure size 1440x1080 with 0 Axes>"
      ]
     },
     "metadata": {},
     "output_type": "display_data"
    }
   ],
   "source": [
    "#CreditLimit analysis\n",
    "fraud=transaction_df.copy()\n",
    "fraud=fraud[(fraud['isFraud']==1)]\n",
    "fraud['creditLimit']=fraud['creditLimit'].astype(int)\n",
    "fraud=fraud.sort_values(by=['creditLimit'])\n",
    "sns.countplot(x='creditLimit',data=fraud,palette=\"Set3\")\n",
    "plt.title(\"Fradulant Transactions count by CreditLimit \")\n",
    "plt.figure(figsize=(20,15))\n",
    "plt.show()"
   ]
  },
  {
   "cell_type": "markdown",
   "metadata": {},
   "source": [
    "### Question2: Plot\n",
    "\n",
    "1.Plot a histogram of the processed amounts of each transaction, the transactionAmount column.\n",
    "\n",
    "2.Report any structure you find and any hypotheses you have about that structure."
   ]
  },
  {
   "cell_type": "code",
   "execution_count": 15,
   "metadata": {},
   "outputs": [
    {
     "data": {
      "image/png": "[encoded data removed]",
      "text/plain": [
       "<Figure size 432x288 with 1 Axes>"
      ]
     },
     "metadata": {
      "needs_background": "light"
     },
     "output_type": "display_data"
    },
    {
     "data": {
      "text/plain": [
       "<Figure size 792x432 with 0 Axes>"
      ]
     },
     "metadata": {},
     "output_type": "display_data"
    }
   ],
   "source": [
    "#plot of transaction Amount\n",
    "sns.distplot(transaction_df['transactionAmount'],kde=False)\n",
    "plt.title('Distribution Of Transaction Amount')\n",
    "plt.figure(figsize=(11,6))\n",
    "plt.show()"
   ]
  },
  {
   "cell_type": "markdown",
   "metadata": {},
   "source": [
    "1. From the Above Plot, the distribution of _transactionAmount_ is non-normal and positive skewed. \n",
    "\n",
    "2. Here the mean transaction amount is greater than the Median Transaction Amount and the Distribution is right-skewed due to the presence of many outliers.\n",
    "\n",
    "3. we can Also observe that more 95% of the _transactionAmount_ is below 750$ \n",
    "\n",
    "4. since the data is substantially positive skewed with zero values, we use log(x+c) transformation to normalize the variable. "
   ]
  },
  {
   "cell_type": "code",
   "execution_count": 16,
   "metadata": {
    "scrolled": true
   },
   "outputs": [
    {
     "data": {
      "image/png": "[encoded data removed]",
      "text/plain": [
       "<Figure size 432x288 with 1 Axes>"
      ]
     },
     "metadata": {
      "needs_background": "light"
     },
     "output_type": "display_data"
    }
   ],
   "source": [
    "#transformed PLot\n",
    "trans=np.log1p(transaction_df.transactionAmount)\n",
    "sns.distplot(trans)\n",
    "plt.title('Distribution of log(transactionamount+1)')\n",
    "plt.show()"
   ]
  },
  {
   "cell_type": "code",
   "execution_count": 17,
   "metadata": {},
   "outputs": [
    {
     "data": {
      "text/plain": [
       "[55.589905595680015, 170.87969440431996]"
      ]
     },
     "execution_count": 17,
     "metadata": {},
     "output_type": "execute_result"
    }
   ],
   "source": [
    "#Confidence interval for transaction Amount at 95% confidence Levellook with known population parameters\n",
    "\n",
    "#drawing a sample drom the population\n",
    "sample=transaction_df['transactionAmount'].sample(n=25, random_state=9896) \n",
    "sample_mean=sample.mean()\n",
    "std=transaction_df['transactionAmount'].std()\n",
    "n=25\n",
    "SE=std/math.sqrt(n)\n",
    "#Estimating Confidence Interval\n",
    "confidence_interval=[]\n",
    "confidence_interval.append(sample_mean-1.96*SE) \n",
    "confidence_interval.append(sample_mean+1.96*SE)\n",
    "confidence_interval"
   ]
  },
  {
   "cell_type": "markdown",
   "metadata": {},
   "source": [
    "For any given Transaction the transaction amount will be in the range [55.58,170.87] at 95% confidence level "
   ]
  },
  {
   "cell_type": "markdown",
   "metadata": {},
   "source": [
    "### Question3: Data Wrangling - Duplicate Transactions"
   ]
  },
  {
   "cell_type": "markdown",
   "metadata": {},
   "source": [
    "**Can you programmatically identify reversed and multi-swipe transactions?**\n",
    ">yes, by using _transactionType_ we can identify reversed Transactions and by using _accountNumber_ , _transactionAmount_ ,_transactionDateTime_ and _merchantName_ we can identify multi-swipe transactions. \n",
    "\n",
    "**What total number of transactions and total dollar amount do you estimate for the reversed transactions? For the multi-swipe transactions?**\n"
   ]
  },
  {
   "cell_type": "markdown",
   "metadata": {},
   "source": [
    "##### REVERSED TRANSACTIONS"
   ]
  },
  {
   "cell_type": "code",
   "execution_count": 18,
   "metadata": {},
   "outputs": [
    {
     "data": {
      "text/plain": [
       "16162"
      ]
     },
     "execution_count": 18,
     "metadata": {},
     "output_type": "execute_result"
    }
   ],
   "source": [
    "# total Number of Reversed Transactions\n",
    "transaction_df[(transaction_df['transactionType']=='REVERSAL')].shape[0]"
   ]
  },
  {
   "cell_type": "code",
   "execution_count": 19,
   "metadata": {},
   "outputs": [
    {
     "data": {
      "text/plain": [
       "501"
      ]
     },
     "execution_count": 19,
     "metadata": {},
     "output_type": "execute_result"
    }
   ],
   "source": [
    "#total number of Reversed transactions with zero transaction amount\n",
    "transaction_df[(transaction_df['transactionType']=='REVERSAL') & (transaction_df['transactionAmount']==0)].shape[0]"
   ]
  },
  {
   "cell_type": "code",
   "execution_count": 20,
   "metadata": {},
   "outputs": [
    {
     "data": {
      "text/plain": [
       "2242915.1"
      ]
     },
     "execution_count": 20,
     "metadata": {},
     "output_type": "execute_result"
    }
   ],
   "source": [
    "#total dollar amount for reversed transaction\n",
    "transaction_df[(transaction_df['transactionType']=='REVERSAL')]['transactionAmount'].sum().round(4)"
   ]
  },
  {
   "cell_type": "code",
   "execution_count": 21,
   "metadata": {},
   "outputs": [
    {
     "data": {
      "text/plain": [
       "138.77707585694796"
      ]
     },
     "execution_count": 21,
     "metadata": {},
     "output_type": "execute_result"
    }
   ],
   "source": [
    "#Mean reversed transaction amount including zero\n",
    "transaction_df[(transaction_df['transactionType']=='REVERSAL')]['transactionAmount'].mean()"
   ]
  },
  {
   "cell_type": "code",
   "execution_count": 22,
   "metadata": {},
   "outputs": [
    {
     "data": {
      "text/plain": [
       "143.21659536428027"
      ]
     },
     "execution_count": 22,
     "metadata": {},
     "output_type": "execute_result"
    }
   ],
   "source": [
    "#Mean of reversed transaction amount when transaction amount is more than zero\n",
    "transaction_df[(transaction_df['transactionType']=='REVERSAL')& (transaction_df['transactionAmount']>0)]['transactionAmount'].mean()"
   ]
  },
  {
   "cell_type": "code",
   "execution_count": 23,
   "metadata": {
    "scrolled": true
   },
   "outputs": [
    {
     "data": {
      "image/png": "[encoded data removed]",
      "text/plain": [
       "<Figure size 432x288 with 1 Axes>"
      ]
     },
     "metadata": {
      "needs_background": "light"
     },
     "output_type": "display_data"
    }
   ],
   "source": [
    "sns.distplot(transaction_df[(transaction_df['transactionType']=='REVERSAL')&(transaction_df['transactionAmount']>0)]['transactionAmount'],kde=False)\n",
    "plt.title(\"DIstribution of Reversed transaction amount\")\n",
    "plt.show()"
   ]
  },
  {
   "cell_type": "markdown",
   "metadata": {},
   "source": [
    "##### MULTIPLE-SWIPE TRANSACTIONS\n",
    "\n",
    "**Assumption** : For identifying multiple-swipe transactions, I'm considering the multi-swipes that took place in a time span of below 3 minutes. In addition, I'm dropping the instances where transactionAmount=0 and transactionType='REVERSAL' to identify multiple-swipes where the customer has been charged before the transaction got reversed."
   ]
  },
  {
   "cell_type": "code",
   "execution_count": 24,
   "metadata": {},
   "outputs": [],
   "source": [
    "multiple_swipe=transaction_df[['accountNumber','transactionAmount','merchantName','transactionType','transactionDateTime']]\n",
    "multiple_swipe.reset_index(level=0, inplace=True)"
   ]
  },
  {
   "cell_type": "code",
   "execution_count": 25,
   "metadata": {},
   "outputs": [],
   "source": [
    "#converting into TimeStamp\n",
    "for i in range(len(multiple_swipe)):\n",
    "    value=datetime.datetime.strptime(multiple_swipe.loc[i,'transactionDateTime'],'%Y-%m-%dT%H:%M:%S')\n",
    "    multiple_swipe.at[i, 'transactionDateTime']=value"
   ]
  },
  {
   "cell_type": "code",
   "execution_count": 26,
   "metadata": {},
   "outputs": [],
   "source": [
    "# multi-swipe transactions including reversed \n",
    "multi_swipe_index=[]\n",
    "multi_swipe_count=0\n",
    "i=1\n",
    "while (i!=len(multiple_swipe)):\n",
    "    if i==len(multiple_swipe):\n",
    "        break\n",
    "    if (multiple_swipe.loc[i,'accountNumber']==multiple_swipe.loc[i-1,'accountNumber']) and(multiple_swipe.loc[i,'transactionAmount']==multiple_swipe.loc[i-1,'transactionAmount']) and (multiple_swipe.loc[i,'merchantName']==multiple_swipe.loc[i-1,'merchantName']) and (multiple_swipe.loc[i,'transactionDateTime']-multiple_swipe.loc[i-1,'transactionDateTime']).seconds<180:\n",
    "        multi_swipe_count+=1\n",
    "        multi_swipe_index.append(multiple_swipe.loc[i,'index'])\n",
    "        i=i+1\n",
    "    else:\n",
    "        i+=1\n",
    "multi_swipe=multiple_swipe.loc[multi_swipe_index]"
   ]
  },
  {
   "cell_type": "code",
   "execution_count": 27,
   "metadata": {},
   "outputs": [],
   "source": [
    "#filtering out reversed transactions\n",
    "multi_swipe=multi_swipe[(multi_swipe['transactionAmount']>0) & (multi_swipe['transactionType']!='REVERSAL')]\n"
   ]
  },
  {
   "cell_type": "code",
   "execution_count": 28,
   "metadata": {},
   "outputs": [
    {
     "data": {
      "text/html": [
       "<div>\n",
       "<style scoped>\n",
       "    .dataframe tbody tr th:only-of-type {\n",
       "        vertical-align: middle;\n",
       "    }\n",
       "\n",
       "    .dataframe tbody tr th {\n",
       "        vertical-align: top;\n",
       "    }\n",
       "\n",
       "    .dataframe thead th {\n",
       "        text-align: right;\n",
       "    }\n",
       "</style>\n",
       "<table border=\"1\" class=\"dataframe\">\n",
       "  <thead>\n",
       "    <tr style=\"text-align: right;\">\n",
       "      <th></th>\n",
       "      <th>index</th>\n",
       "      <th>accountNumber</th>\n",
       "      <th>transactionAmount</th>\n",
       "      <th>merchantName</th>\n",
       "      <th>transactionType</th>\n",
       "      <th>transactionDateTime</th>\n",
       "    </tr>\n",
       "  </thead>\n",
       "  <tbody>\n",
       "    <tr>\n",
       "      <th>997</th>\n",
       "      <td>997</td>\n",
       "      <td>885773130</td>\n",
       "      <td>50.93</td>\n",
       "      <td>Franks Pub #87366</td>\n",
       "      <td>PURCHASE</td>\n",
       "      <td>2016-10-18 20:19:16</td>\n",
       "    </tr>\n",
       "    <tr>\n",
       "      <th>1071</th>\n",
       "      <td>1071</td>\n",
       "      <td>799731758</td>\n",
       "      <td>124.77</td>\n",
       "      <td>Dinosaur Sandwitch Bar #960325</td>\n",
       "      <td>PURCHASE</td>\n",
       "      <td>2016-09-01 08:10:36</td>\n",
       "    </tr>\n",
       "    <tr>\n",
       "      <th>1230</th>\n",
       "      <td>1230</td>\n",
       "      <td>784469543</td>\n",
       "      <td>271.60</td>\n",
       "      <td>Hyatt House #461673</td>\n",
       "      <td>PURCHASE</td>\n",
       "      <td>2016-05-11 05:43:42</td>\n",
       "    </tr>\n",
       "    <tr>\n",
       "      <th>1290</th>\n",
       "      <td>1290</td>\n",
       "      <td>784469543</td>\n",
       "      <td>401.06</td>\n",
       "      <td>Hilton Hotels #89655</td>\n",
       "      <td>PURCHASE</td>\n",
       "      <td>2016-07-07 16:39:42</td>\n",
       "    </tr>\n",
       "    <tr>\n",
       "      <th>1312</th>\n",
       "      <td>1312</td>\n",
       "      <td>784469543</td>\n",
       "      <td>184.44</td>\n",
       "      <td>alibaba.com</td>\n",
       "      <td>PURCHASE</td>\n",
       "      <td>2016-07-24 12:32:36</td>\n",
       "    </tr>\n",
       "    <tr>\n",
       "      <th>1439</th>\n",
       "      <td>1439</td>\n",
       "      <td>784469543</td>\n",
       "      <td>398.04</td>\n",
       "      <td>Uber</td>\n",
       "      <td>PURCHASE</td>\n",
       "      <td>2016-10-31 18:12:41</td>\n",
       "    </tr>\n",
       "    <tr>\n",
       "      <th>1440</th>\n",
       "      <td>1440</td>\n",
       "      <td>784469543</td>\n",
       "      <td>398.04</td>\n",
       "      <td>Uber</td>\n",
       "      <td>PURCHASE</td>\n",
       "      <td>2016-10-31 18:15:27</td>\n",
       "    </tr>\n",
       "  </tbody>\n",
       "</table>\n",
       "</div>"
      ],
      "text/plain": [
       "      index accountNumber  transactionAmount                    merchantName  \\\n",
       "997     997     885773130              50.93               Franks Pub #87366   \n",
       "1071   1071     799731758             124.77  Dinosaur Sandwitch Bar #960325   \n",
       "1230   1230     784469543             271.60             Hyatt House #461673   \n",
       "1290   1290     784469543             401.06            Hilton Hotels #89655   \n",
       "1312   1312     784469543             184.44                     alibaba.com   \n",
       "1439   1439     784469543             398.04                            Uber   \n",
       "1440   1440     784469543             398.04                            Uber   \n",
       "\n",
       "     transactionType  transactionDateTime  \n",
       "997         PURCHASE  2016-10-18 20:19:16  \n",
       "1071        PURCHASE  2016-09-01 08:10:36  \n",
       "1230        PURCHASE  2016-05-11 05:43:42  \n",
       "1290        PURCHASE  2016-07-07 16:39:42  \n",
       "1312        PURCHASE  2016-07-24 12:32:36  \n",
       "1439        PURCHASE  2016-10-31 18:12:41  \n",
       "1440        PURCHASE  2016-10-31 18:15:27  "
      ]
     },
     "execution_count": 28,
     "metadata": {},
     "output_type": "execute_result"
    }
   ],
   "source": [
    "multi_swipe.head(13)[6:]"
   ]
  },
  {
   "cell_type": "code",
   "execution_count": 29,
   "metadata": {},
   "outputs": [
    {
     "data": {
      "text/plain": [
       "5989"
      ]
     },
     "execution_count": 29,
     "metadata": {},
     "output_type": "execute_result"
    }
   ],
   "source": [
    "#total multi-swipes excluding the initial normal transaction\n",
    "multi_swipe.shape[0]"
   ]
  },
  {
   "cell_type": "code",
   "execution_count": 30,
   "metadata": {},
   "outputs": [
    {
     "data": {
      "text/plain": [
       "885149.17"
      ]
     },
     "execution_count": 30,
     "metadata": {},
     "output_type": "execute_result"
    }
   ],
   "source": [
    "#total dollaramount of multi-swipes \n",
    "multi_swipe.transactionAmount.sum().round(2)"
   ]
  },
  {
   "cell_type": "code",
   "execution_count": 31,
   "metadata": {},
   "outputs": [
    {
     "data": {
      "text/plain": [
       "147.8"
      ]
     },
     "execution_count": 31,
     "metadata": {},
     "output_type": "execute_result"
    }
   ],
   "source": [
    "#mean dollaramount of multi-swipes \n",
    "mean=multi_swipe.transactionAmount.mean()\n",
    "round(mean,2)"
   ]
  },
  {
   "cell_type": "markdown",
   "metadata": {},
   "source": [
    "**Did you find anything interesting about either kind of transaction?**\n",
    "\n",
    "1.Total Number of Reversed Transactions: 16162\n",
    "\n",
    "1. Total dollar amount of Reversed Transactions: 2242915.1\n",
    "\n",
    "1. Mean dollar amount for reversed transaction(including zero trasaction amount): 138.78\n",
    "1. Mean dollar amount for reversed transaction(Excluding zero trasaction amount): 143.22\n",
    "\n",
    "\n",
    "1.Total Number of Multi-swipes : 5989\n",
    "1. Total dollar amount of Multi-swipes : 885149.17\n",
    "1. Mean dollar amount for multi-swipe Transactions: 147.8\n"
   ]
  },
  {
   "cell_type": "markdown",
   "metadata": {},
   "source": [
    "### Question4: Model"
   ]
  },
  {
   "cell_type": "code",
   "execution_count": 32,
   "metadata": {},
   "outputs": [],
   "source": [
    "#importing required Modules and Algorithms\n",
    "from sklearn.model_selection import train_test_split\n",
    "from sklearn.preprocessing import OneHotEncoder,OrdinalEncoder,StandardScaler, MinMaxScaler, FunctionTransformer,LabelEncoder\n",
    "from sklearn.pipeline import Pipeline\n",
    "from sklearn.compose import ColumnTransformer\n",
    "from sklearn.model_selection import cross_val_score,GridSearchCV,cross_val_predict\n",
    "from sklearn.ensemble import RandomForestClassifier,ExtraTreesClassifier\n",
    "from sklearn.linear_model import LogisticRegression,SGDClassifier\n",
    "from sklearn.decomposition import PCA\n",
    "from sklearn.metrics import precision_score, recall_score,f1_score, accuracy_score\n",
    "from sklearn.metrics import precision_recall_curve,roc_curve,roc_auc_score\n",
    "from sklearn.metrics import confusion_matrix\n",
    "from imblearn.pipeline import make_pipeline \n",
    "from imblearn.over_sampling import SMOTE"
   ]
  },
  {
   "cell_type": "markdown",
   "metadata": {},
   "source": [
    "#### Data-PreProcessing"
   ]
  },
  {
   "cell_type": "code",
   "execution_count": 33,
   "metadata": {},
   "outputs": [],
   "source": [
    "#dropping few more unnecessry columns for modeling \n",
    "#to avoid the model from memorizaton dropping account numbers\n",
    "transaction_df1=transaction_df1.drop(['merchantName','accountNumber','transactionDateTime','merchantCategoryCode','cardLast4Digits','accountOpenDate','dateOfLastAddressChange','cardCVV','enteredCVV','currentExpDate','expirationDateKeyInMatch'],axis=1)\n"
   ]
  },
  {
   "cell_type": "code",
   "execution_count": 34,
   "metadata": {},
   "outputs": [],
   "source": [
    "#Complete Case Analysis\n",
    "transaction_df_CCA=transaction_df1.dropna(inplace=False)\n",
    "transaction_df_CCA['isFraud']=transaction_df_CCA.isFraud.astype(np.uint8)\n",
    "\n",
    "#Removing Outliers\n",
    "transaction_df_CCA=transaction_df_CCA[(transaction_df_CCA.availableMoney>0)]\n"
   ]
  },
  {
   "cell_type": "markdown",
   "metadata": {},
   "source": [
    "I found out that there are many outliers such as negative values for availableMoney attribute. so, I have removed the outliers to transform the positive skewed attribute using log transformation."
   ]
  },
  {
   "cell_type": "code",
   "execution_count": 35,
   "metadata": {},
   "outputs": [],
   "source": [
    "#shuffeled full-training set and testing set\n",
    "train,test = split_train_test(transaction_df_CCA,0.2)\n",
    "y_train=train['isFraud']\n",
    "y_test=test['isFraud']\n",
    "x_train_full=train.drop('isFraud',axis=1)\n",
    "x_test=test.drop('isFraud',axis=1)\n",
    "numerical=['availableMoney','transactionAmount','currentBalance']"
   ]
  },
  {
   "cell_type": "markdown",
   "metadata": {},
   "source": [
    "**Note:** I have used the following pipeline for transforming numerical inputs and to encode categorical inputs with respective encoders. \n",
    "1. transactionAmount,CurrentBalance, available money - log transformation\n",
    "2. Transactiontype has only three categories. so, I have used onehotencoder\n",
    "3. Creditlimit can be ordered so I've used ordinalEncoder.\n",
    "4. The rest of the attributes were labeled randomly since they come under nominal attributes. "
   ]
  },
  {
   "cell_type": "code",
   "execution_count": 36,
   "metadata": {},
   "outputs": [],
   "source": [
    "#pipeline transformation\n",
    "num_pipeline=Pipeline([\n",
    "    ('transform',FunctionTransformer(np.log1p))\n",
    "])\n",
    "cred_lim_order= [[250,500,1000,2500,5000,7500,10000,15000,20000,50000]]\n",
    "country_order=[['US','MEX','CAN','PR']]\n",
    "one_hot=['transactionType']\n",
    "full_pipeline = ColumnTransformer([\n",
    "    (\"num\", num_pipeline, numerical),\n",
    "    (\"oneHot\", OneHotEncoder(), one_hot),\n",
    "    ('ordinal',OrdinalEncoder(categories=cred_lim_order),['creditLimit']),\n",
    "    ('label_enc_acqCountry ',OrdinalEncoder(categories=country_order),['acqCountry']),\n",
    "    ('label_enc_mercCountry',OrdinalEncoder(categories=country_order),['merchantCountryCode']),\n",
    "    ('label_posentry',OrdinalEncoder(),['posEntryMode']),\n",
    "    ('label_posCondition',OrdinalEncoder(),['posConditionCode']),\n",
    "    ('label_cardpres',OrdinalEncoder(),['cardPresent'])\n",
    "    ])\n",
    "x_train_full_trans=full_pipeline.fit_transform(x_train_full)\n",
    "x_test_trans=full_pipeline.transform(x_test)"
   ]
  },
  {
   "cell_type": "markdown",
   "metadata": {},
   "source": [
    "**NOTE**: With the transformed dataset I've trained a few models using dimensionality reduction techniques such as PCA to reduce the dimensions while preserving the variance, but none of them were able to classify the underrepresented labels due to imbalanced proportions of the target class. so, I preferred only 3 numerical attributes that are highly co-related and few models did a good job in identifying the underrepresented targets."
   ]
  },
  {
   "cell_type": "code",
   "execution_count": 37,
   "metadata": {},
   "outputs": [
    {
     "name": "stdout",
     "output_type": "stream",
     "text": [
      "Model Training Performance\n",
      "--------------------------\n",
      "Accuracy: 0.9647797323710721\n",
      "precision: 0.03182006633499171\n",
      "Recall: 0.03500969323754134\n",
      "F1 Score: 0.03333876309931042\n"
     ]
    }
   ],
   "source": [
    "#SGD Classifier with nuerical Inputs\n",
    "x_train=train[numerical]\n",
    "sgd_clf = SGDClassifier(random_state=56)\n",
    "model_performance_training(sgd_clf,x_train,y_train)"
   ]
  },
  {
   "cell_type": "code",
   "execution_count": 38,
   "metadata": {},
   "outputs": [
    {
     "name": "stdout",
     "output_type": "stream",
     "text": [
      "Model Training Performance\n",
      "--------------------------\n",
      "Accuracy: 0.9826500170136663\n",
      "precision: 0.3333333333333333\n",
      "Recall: 0.00011403808872163302\n",
      "F1 Score: 0.00022799817601459188\n"
     ]
    }
   ],
   "source": [
    "#Logistic regression with Numerical Inputs\n",
    "x_train=train[numerical]\n",
    "log_reg=LogisticRegression(solver='liblinear')\n",
    "model_performance_training(log_reg,x_train,y_train)"
   ]
  },
  {
   "cell_type": "markdown",
   "metadata": {},
   "source": [
    "1. The Accuracy score of Logistic Regression is greater than SGDClassifier but SGDClassifier did a better job compared to Logistic Regression in terms of F1score. It's quite obvious that overrepresented classed have more weight and are correctly classified. but our aim is to capture as many true positives as possible by reducing False positives. so, Accuracy is not a good performance metric to evaluate the model for this particular dataset.\n",
    "\n",
    "\n",
    "2. SGDclassifier was able to capture 3.5% of true positives and it's only 3.1% precise. but still, this is not a quite appreciable model since the model is Underfitting the test set."
   ]
  },
  {
   "cell_type": "code",
   "execution_count": 39,
   "metadata": {},
   "outputs": [
    {
     "name": "stdout",
     "output_type": "stream",
     "text": [
      "Model Training Performance\n",
      "--------------------------\n",
      "Accuracy: 0.9998911916688429\n",
      "precision: 0.9997705895847672\n",
      "Recall: 0.9939559812977534\n",
      "F1 Score: 0.996854806427632\n"
     ]
    }
   ],
   "source": [
    "#Random Forest\n",
    "x_train=train[numerical]\n",
    "y_train=train['isFraud']\n",
    "rf=RandomForestClassifier(random_state=70)\n",
    "\n",
    "#trainingPerformance\n",
    "model_performance_training(rf,x_train,y_train)"
   ]
  },
  {
   "cell_type": "code",
   "execution_count": 40,
   "metadata": {},
   "outputs": [
    {
     "name": "stdout",
     "output_type": "stream",
     "text": [
      "Model Evaluation Scores\n",
      "--------------------------\n",
      "Accuracy: 0.9827725373512282\n",
      "precision: 0.06741573033707865\n",
      "Recall: 0.002857142857142857\n",
      "F1 Score: 0.005481955230698949\n"
     ]
    }
   ],
   "source": [
    "#Evaluating Model\n",
    "model_Evaluation_scores(rf,x_test[numerical],y_test)"
   ]
  },
  {
   "cell_type": "markdown",
   "metadata": {},
   "source": [
    "RandomForest did a better job on training data byoutperforming Logistic and SGDClassifier but overfitting the test data. so, toovercome this issue, I'have tried resampling techniques such as OverSamplingand Under Sampling but nothing improved the model's performance. so, I'm usingSMOTE(Synthetic Minority Oversampling Technique) that uses nearest under-represented samples to generate duplicate instances of underrepresentedsamples. \n"
   ]
  },
  {
   "cell_type": "markdown",
   "metadata": {},
   "source": [
    "### Synthetic Minority Oversampling Technique"
   ]
  },
  {
   "cell_type": "code",
   "execution_count": 41,
   "metadata": {},
   "outputs": [
    {
     "name": "stdout",
     "output_type": "stream",
     "text": [
      "Model Evaluation Scores\n",
      "--------------------------\n",
      "Accuracy: 0.5604187769055458\n",
      "precision: 0.023686883989520024\n",
      "Recall: 0.6328571428571429\n",
      "F1 Score: 0.04566461078564434\n"
     ]
    }
   ],
   "source": [
    "#smote+Logistic\n",
    "model=SGDClassifier(random_state=56)\n",
    "smote_pipeline = make_pipeline(SMOTE(random_state=12), model)\n",
    "smote_pipeline.fit(x_train[numerical], y_train)\n",
    "\n",
    "model_Evaluation_scores(smote_pipeline,x_test[numerical],y_test)"
   ]
  },
  {
   "cell_type": "markdown",
   "metadata": {},
   "source": [
    ">when it comes to F1 score the logistic Regression model with SMOTE did 100 times better job on test data where as the previous logistic regression with out sampling technique was underfitting the training data."
   ]
  },
  {
   "cell_type": "code",
   "execution_count": 42,
   "metadata": {},
   "outputs": [
    {
     "name": "stdout",
     "output_type": "stream",
     "text": [
      "Model Evaluation Scores\n",
      "--------------------------\n",
      "Accuracy: 0.7827614585971132\n",
      "precision: 0.02245328511151296\n",
      "Recall: 0.2838095238095238\n",
      "F1 Score: 0.0416142996788158\n"
     ]
    }
   ],
   "source": [
    "#Smote+Random \n",
    "pipe = make_pipeline(SMOTE(k_neighbors=6),RandomForestClassifier(random_state=70))\n",
    "\n",
    "# # scores=cross_val_score(pipe,x_train,y_train,cv=5,scoring=\"f1\")\n",
    "# # print(\"mean_Crossvalidation_scores\",scores.mean())\n",
    "\n",
    "pipe.fit(x_train[numerical],y_train)\n",
    "\n",
    "\n",
    "model_Evaluation_scores(pipe,x_test[numerical],y_test)"
   ]
  },
  {
   "cell_type": "markdown",
   "metadata": {},
   "source": [
    ">Same goes for Randomforest with SMOTE, the model performed almost 10 times better job than Randomforest with out sampling. "
   ]
  },
  {
   "cell_type": "markdown",
   "metadata": {},
   "source": [
    "I wanted to build an efficient classification model that could find patterns from the entire dataset including categorical attributes. Initially, I have used a soft voting classifier with Logistic regression, SVM and Decision tree as predictors. It turns out that the classifiers were so weak to identify patterns even with SMOTE.so, I preferred the following classifiers that can handle more features in identifying the patterns from the transformed dataset.\n",
    "\n",
    "1. SGDClassifier.\n",
    "\n",
    "2. RandomForestClassifier.\n",
    "\n",
    "3. Extra Tree.\n",
    "\n",
    "I have preferred these classifiers because these models are stochastic in nature and can minimize the cost function efficiently. In fact, ExtraTree is more random compared to the other two models because it uses a random threshold in the first split. whereas Randomforest uses a feature and threshold pair for splitting.\n",
    "\n",
    "In addition, to find the hyperparameters for the algorithm I have used GridSearchCV to hyper tune the algorithm and captured the best estimator that performed better on validation data considering f1 score.\n",
    "\n",
    "After capturing the best estimator, I have designed a pipeline that will first sample the instances using SMOTE and fits the sampled dataset to the best estimator that was captured earlier."
   ]
  },
  {
   "cell_type": "code",
   "execution_count": 43,
   "metadata": {},
   "outputs": [
    {
     "name": "stdout",
     "output_type": "stream",
     "text": [
      "Model Evaluation Scores\n",
      "--------------------------\n",
      "Accuracy: 0.6000253228665485\n",
      "precision: 0.028442938909005958\n",
      "Recall: 0.6957142857142857\n",
      "F1 Score: 0.05465155425878128\n"
     ]
    }
   ],
   "source": [
    "#SMOTE+SGDTuned \n",
    "param_grid = [\n",
    "    {'loss':['log','hinge'],\n",
    "    'eta0': [0.01,0.03,0.2],\n",
    "     'penalty':[\"l2\",'l1','elasticnet'],\n",
    "     'validation_fraction': [0.2]}\n",
    "    ]\n",
    "SGD = SGDClassifier()\n",
    "\n",
    "#Uncomment the below 2 lines before running the entire file\n",
    "\n",
    "#grid_searchSGD = GridSearchCV(SGD, param_grid, cv=3,scoring='f1')\n",
    "#grid_searchSGD.fit(x_train_full_trans,y_train)\n",
    "\n",
    "pipe_sgd = make_pipeline(SMOTE(),grid_searchSGD.best_estimator_)\n",
    "pipe_sgd.fit(x_train_full_trans,y_train)\n",
    "model_Evaluation_scores(pipe_sgd,x_test_trans,y_test)\n"
   ]
  },
  {
   "cell_type": "code",
   "execution_count": 46,
   "metadata": {},
   "outputs": [
    {
     "name": "stdout",
     "output_type": "stream",
     "text": [
      "Model Evaluation Scores\n",
      "--------------------------\n",
      "Accuracy: 0.6595973664218789\n",
      "precision: 0.032388571428571426\n",
      "Recall: 0.6747619047619048\n",
      "F1 Score: 0.061810250817884396\n"
     ]
    }
   ],
   "source": [
    "#SMOTE + RandomForest Tuned\n",
    "from sklearn.model_selection import GridSearchCV\n",
    "param_grid = [\n",
    "    {'n_estimators': [60,100],\n",
    "     'max_features': [2,3,4],\n",
    "    'max_depth':[4,10]},\n",
    "    ]\n",
    "rc = RandomForestClassifier()\n",
    "\n",
    "#Uncomment the below 2 lines before running the entire file\n",
    "\n",
    "#grid_search = GridSearchCV(rc, param_grid, cv=3,scoring='f1')\n",
    "#grid_search.fit(x_train_full_trans,y_train)\n",
    "\n",
    "\n",
    "pipe_rf = make_pipeline(SMOTE(),grid_search.best_estimator_)\n",
    "pipe_rf.fit(x_train_full_trans,y_train)\n",
    "\n",
    "model_Evaluation_scores(pipe_rf,x_test_trans,y_test)"
   ]
  },
  {
   "cell_type": "code",
   "execution_count": 47,
   "metadata": {},
   "outputs": [
    {
     "name": "stdout",
     "output_type": "stream",
     "text": [
      "Model Evaluation Scores\n",
      "--------------------------\n",
      "Accuracy: 0.6969327677893138\n",
      "precision: 0.03405931417979611\n",
      "Recall: 0.63\n",
      "F1 Score: 0.06462485345838218\n"
     ]
    }
   ],
   "source": [
    "#SMOTE + Tunened Extra Tree\n",
    "from sklearn.model_selection import GridSearchCV\n",
    "param_grid = [\n",
    "    {'n_estimators': [8,15,20],\n",
    "     'max_features': [2,3,4],\n",
    "    'max_depth':[5,10]},\n",
    "    ]\n",
    "ET = ExtraTreesClassifier()\n",
    "\n",
    "#Uncomment the below 2 lines before running the entire file\n",
    "\n",
    "#grid_searchET = GridSearchCV(rc, param_grid, cv=3,scoring='f1')\n",
    "#grid_searchET.fit(x_train_full_trans,y_train)\n",
    "\n",
    "\n",
    "pipe_et = make_pipeline(SMOTE(),grid_searchET.best_estimator_)\n",
    "pipe_et.fit(x_train_full_trans,y_train)\n",
    "\n",
    "model_Evaluation_scores(pipe_et,x_test_trans,y_test)"
   ]
  },
  {
   "cell_type": "markdown",
   "metadata": {},
   "source": [
    "Finding the best parameters by hyper tuning and using those parameters along with SMOTE actually helped the versatile models to find the patters in a better way. \n",
    "\n",
    "1. SGDClassifier's recall was almost 70% and only 2.8% precision meaning the model is able to capture 70% of the true positives and only 2.8% were accurate, this leads to reduced f1 score. There is always a trade-off between precision and recall.\n",
    "\n",
    "\n",
    "2. Random forest was slightly better with 3.2% precision and 6.1% F1score.\n",
    "\n",
    "\n",
    "3. compared to the other two models, Extra tree's random nature helped the algorithm to achieve 3.5% precision and 6.4% f1 Score but reduced Recall 63%. \n",
    "\n",
    "it's quite difficult to identify which model performed better. since we are giving more importance to identifying true positives I want to consider Extratree as a final model. Before considering, we can actually relay on another performance metric to verify the performance of the three models i.e receiver operating characteristic curve and area under it."
   ]
  },
  {
   "cell_type": "markdown",
   "metadata": {},
   "source": [
    "#### ROC AND AUC"
   ]
  },
  {
   "cell_type": "code",
   "execution_count": 48,
   "metadata": {},
   "outputs": [],
   "source": [
    "#SGD\n",
    "y_scores_sgd=cross_val_predict(pipe_sgd,x_train_full_trans,y_train,method='decision_function')\n",
    "fpr_sgd, tpr_sgd, thresholds_sgd = roc_curve(y_train, y_scores_sgd)\n",
    "\n",
    "#RANDOM\n",
    "y_probas = cross_val_predict(pipe_rf,x_train_full_trans,y_train,method=\"predict_proba\")\n",
    "y_scores_rf = y_probas[:, 1]\n",
    "fpr_rf, tpr_rf, thresholds_rf = roc_curve(y_train, y_scores_rf)\n",
    "\n",
    "#Extra_tree\n",
    "y_probas = cross_val_predict(pipe_et,x_train_full_trans,y_train,method=\"predict_proba\")\n",
    "y_scores_et = y_probas[:, 1]\n",
    "fpr_et, tpr_et, thresholds_et = roc_curve(y_train, y_scores_et)"
   ]
  },
  {
   "cell_type": "code",
   "execution_count": 49,
   "metadata": {},
   "outputs": [
    {
     "name": "stdout",
     "output_type": "stream",
     "text": [
      "Area Under ROC\n",
      "---------------\n",
      "SGD Classifier: 0.691\n",
      "Random Forest : 0.711\n",
      "Extra Tree    : 0.722\n"
     ]
    },
    {
     "data": {
      "image/png": "[encoded data removed]",
      "text/plain": [
       "<Figure size 432x288 with 1 Axes>"
      ]
     },
     "metadata": {
      "needs_background": "light"
     },
     "output_type": "display_data"
    },
    {
     "data": {
      "text/plain": [
       "<Figure size 1440x1080 with 0 Axes>"
      ]
     },
     "metadata": {},
     "output_type": "display_data"
    }
   ],
   "source": [
    "#PLOTTING ROC CURVE\n",
    "plt.plot(fpr_rf,tpr_rf,label=\"RandomForest\")\n",
    "plt.plot(fpr_sgd,tpr_sgd,label=\"SGD\")\n",
    "plt.plot(fpr_et,tpr_et,label=\"ExtraTree\")\n",
    "plt.plot([0, 1], [0, 1], 'k--')\n",
    "plt.axis([0, 1, 0, 1])\n",
    "plt.xlabel('False Positive Rate ') \n",
    "plt.ylabel('True Positive Rate ')\n",
    "plt.legend(loc='lower right')\n",
    "plt.title('Recieve operator curve')\n",
    "plt.figure(figsize=(20,15))\n",
    "print('Area Under ROC')\n",
    "print('---------------')\n",
    "print('SGD Classifier:',roc_auc_score(y_train, y_scores_sgd).round(3))\n",
    "print('Random Forest :',roc_auc_score(y_train, y_scores_rf).round(3))\n",
    "print('Extra Tree    :',roc_auc_score(y_train, y_scores_et).round(3))\n",
    "plt.show()"
   ]
  },
  {
   "cell_type": "markdown",
   "metadata": {},
   "source": [
    "**CONCLUSION :** \n",
    "From the Above ROC curves and evaluation metrics, it's quite obvious that ExtraTree is a better model compared to SGDClassifier and RandomForest with Area 0.72. so, I want to Consider Extratree as my final model.\n",
    "\n",
    "To drive deeper into tackling the imbalanced datasets, we could actually find the apportion ratio of sampling the under-represented targets by hyper tuning the SMOTE technique with Keras tuner and build a neural network for classification by using appropriate evaluation metrics. unfortunately, the F1 score Metrics was removed by developers in keras2.0. In the future, I would like to work on solving similar problems by using sophisticated methodologies."
   ]
  },
  {
   "cell_type": "markdown",
   "metadata": {},
   "source": [
    "**REFERENCES** :\n",
    "\n",
    "1. Hands-On Machine Learning with Scikit-Learn, Keras, and TensorFlow by  Geron Aurelien\n",
    "\n",
    "2. Dealing with Imbalanced Data (https://towardsdatascience.com/)\n",
    "\n",
    "3. Stack-Over flow."
   ]
  }
 ],
 "metadata": {
  "kernelspec": {
   "display_name": "Python 3",
   "language": "python",
   "name": "python3"
  },
  "language_info": {
   "codemirror_mode": {
    "name": "ipython",
    "version": 3
   },
   "file_extension": ".py",
   "mimetype": "text/x-python",
   "name": "python",
   "nbconvert_exporter": "python",
   "pygments_lexer": "ipython3",
   "version": "3.7.3"
  },
  "varInspector": {
   "cols": {
    "lenName": 16,
    "lenType": 16,
    "lenVar": 40
   },
   "kernels_config": {
    "python": {
     "delete_cmd_postfix": "",
     "delete_cmd_prefix": "del ",
     "library": "var_list.py",
     "varRefreshCmd": "print(var_dic_list())"
    },
    "r": {
     "delete_cmd_postfix": ") ",
     "delete_cmd_prefix": "rm(",
     "library": "var_list.r",
     "varRefreshCmd": "cat(var_dic_list()) "
    }
   },
   "oldHeight": 482.172818,
   "position": {
    "height": "503.977px",
    "left": "1282.95px",
    "right": "20px",
    "top": "210.977px",
    "width": "391.989px"
   },
   "types_to_exclude": [
    "module",
    "function",
    "builtin_function_or_method",
    "instance",
    "_Feature"
   ],
   "varInspector_section_display": "block",
   "window_display": false
  }
 },
 "nbformat": 4,
 "nbformat_minor": 2
}
